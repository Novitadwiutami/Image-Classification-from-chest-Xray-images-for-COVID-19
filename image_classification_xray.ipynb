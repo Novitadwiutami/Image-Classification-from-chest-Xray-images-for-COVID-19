{
  "nbformat": 4,
  "nbformat_minor": 0,
  "metadata": {
    "colab": {
      "name": "nlp_with_deploy.ipynb",
      "provenance": [],
      "collapsed_sections": []
    },
    "kernelspec": {
      "name": "python3",
      "display_name": "Python 3"
    },
    "language_info": {
      "name": "python"
    }
  },
  "cells": [
    {
      "cell_type": "markdown",
      "metadata": {
        "id": "AlmZB2Ug57ka"
      },
      "source": [
        "\n",
        "\n",
        "---\n",
        "\n"
      ]
    },
    {
      "cell_type": "markdown",
      "metadata": {
        "id": "xxyB3wIg3Py3"
      },
      "source": [
        "Image Classification from chest X-ray images for COVID-19 positive cases along with Normal and Viral Pneumonia images. The datased used is created by a team of researchers from Qatar University, Doha, Qatar, and the University of Dhaka, Bangladesh along with their collaborators from Pakistan and Malaysia in collaboration with medical doctors. The dataset consist of  :\n",
        "*   3616 COVID-19 positive cases images\n",
        "*   10,192 Normal images\n",
        "*   6012 Lung Opacity (Non-COVID lung infection) images\n",
        "*   1345 Viral Pneumonia images\n",
        "\n",
        "\n",
        "\n",
        "\n",
        "\n"
      ]
    },
    {
      "cell_type": "markdown",
      "metadata": {
        "id": "w0GyUABK6zL4"
      },
      "source": [
        "\n",
        "\n",
        "---\n",
        "\n"
      ]
    },
    {
      "cell_type": "markdown",
      "metadata": {
        "id": "GF2i-ruy61Hx"
      },
      "source": [
        "**IMPORT LIBRARY**"
      ]
    },
    {
      "cell_type": "code",
      "metadata": {
        "colab": {
          "base_uri": "https://localhost:8080/"
        },
        "id": "JlvFDgexht5I",
        "outputId": "9896eb43-b766-41ce-bc4f-44953b55bde6"
      },
      "source": [
        "# Install for spliting folder\n",
        "!pip install split-folders\n",
        "!pip install split-folders tqdm"
      ],
      "execution_count": null,
      "outputs": [
        {
          "output_type": "stream",
          "text": [
            "Collecting split-folders\n",
            "  Downloading https://files.pythonhosted.org/packages/b8/5f/3c2b2f7ea5e047c8cdc3bb00ae582c5438fcdbbedcc23b3cc1c2c7aae642/split_folders-0.4.3-py3-none-any.whl\n",
            "Installing collected packages: split-folders\n",
            "Successfully installed split-folders-0.4.3\n",
            "Requirement already satisfied: split-folders in /usr/local/lib/python3.7/dist-packages (0.4.3)\n",
            "Requirement already satisfied: tqdm in /usr/local/lib/python3.7/dist-packages (4.41.1)\n"
          ],
          "name": "stdout"
        }
      ]
    },
    {
      "cell_type": "code",
      "metadata": {
        "id": "3N5IyYE7hwpo"
      },
      "source": [
        "import os\n",
        "import shutil\n",
        "import splitfolders\n",
        "import tensorflow as tf\n",
        "from tensorflow.keras.optimizers import RMSprop\n",
        "from tensorflow.keras.preprocessing.image import ImageDataGenerator\n",
        "import zipfile,os\n",
        "import pandas as pd\n",
        "import numpy as np\n",
        "from sklearn.model_selection import train_test_split\n",
        "from google.colab import files\n",
        "from keras.preprocessing import image\n",
        "import matplotlib.pyplot as plt\n",
        "import matplotlib.image as mpimg\n",
        "%matplotlib inline"
      ],
      "execution_count": null,
      "outputs": []
    },
    {
      "cell_type": "markdown",
      "metadata": {
        "id": "UJUniu-A7Jkc"
      },
      "source": [
        "**DOWNLOAD DATASET FROM KAGGLE**"
      ]
    },
    {
      "cell_type": "markdown",
      "metadata": {
        "id": "cjRDp28w7PuH"
      },
      "source": [
        "Username and Key API Kaggle"
      ]
    },
    {
      "cell_type": "code",
      "metadata": {
        "id": "V8fNgfzthy0K"
      },
      "source": [
        "import os\n",
        "os.environ['KAGGLE_USERNAME'] = \"novitadwiu\"\n",
        "os.environ['KAGGLE_KEY'] = \"817502214a8c4d03dadabed9bed651ab\""
      ],
      "execution_count": null,
      "outputs": []
    },
    {
      "cell_type": "markdown",
      "metadata": {
        "id": "2FtXUp8Q7bu8"
      },
      "source": [
        "COVID-19 Radiography Dataset from https://www.kaggle.com/preetviradiya/covid19-radiography-dataset"
      ]
    },
    {
      "cell_type": "code",
      "metadata": {
        "colab": {
          "base_uri": "https://localhost:8080/"
        },
        "id": "6Gjdbyk5h4Gw",
        "outputId": "73ccfb68-693a-4c16-b4c8-b607fa5aed7e"
      },
      "source": [
        "!kaggle datasets download -d preetviradiya/covid19-radiography-dataset"
      ],
      "execution_count": null,
      "outputs": [
        {
          "output_type": "stream",
          "text": [
            "Downloading covid19-radiography-dataset.zip to /content\n",
            " 99% 739M/747M [00:12<00:00, 73.1MB/s]\n",
            "100% 747M/747M [00:12<00:00, 61.7MB/s]\n"
          ],
          "name": "stdout"
        }
      ]
    },
    {
      "cell_type": "markdown",
      "metadata": {
        "id": "XsEiXu_t7qgj"
      },
      "source": [
        "**FILE EXTRACTION**"
      ]
    },
    {
      "cell_type": "code",
      "metadata": {
        "id": "wq46cSAvh4pN"
      },
      "source": [
        "local_zip = '/content/covid19-radiography-dataset.zip'\n",
        "zip_ref = zipfile.ZipFile(local_zip, 'r')\n",
        "zip_ref.extractall('/content')\n",
        "zip_ref.close()"
      ],
      "execution_count": null,
      "outputs": []
    },
    {
      "cell_type": "code",
      "metadata": {
        "colab": {
          "base_uri": "https://localhost:8080/"
        },
        "id": "KWiJU6zPiDGA",
        "outputId": "62d2fed9-9ebb-4062-8c12-c442109331b6"
      },
      "source": [
        "os.listdir('/content/COVID-19_Radiography_Dataset/COVID-19_Radiography_Dataset')"
      ],
      "execution_count": null,
      "outputs": [
        {
          "output_type": "execute_result",
          "data": {
            "text/plain": [
              "['Viral Pneumonia', 'COVID', 'Normal', 'Lung_Opacity']"
            ]
          },
          "metadata": {
            "tags": []
          },
          "execution_count": 6
        }
      ]
    },
    {
      "cell_type": "markdown",
      "metadata": {
        "id": "7-E7ME0K7wcE"
      },
      "source": [
        "**SPLIT THE DATASET INTO 80% TRAINING SET AND 20% VALIDATION SET**"
      ]
    },
    {
      "cell_type": "code",
      "metadata": {
        "colab": {
          "base_uri": "https://localhost:8080/"
        },
        "id": "Vq6ffkODjbvm",
        "outputId": "a1f738bf-6016-4149-a702-59b65bc11c2c"
      },
      "source": [
        "splitfolders.ratio('/content/COVID-19_Radiography_Dataset/COVID-19_Radiography_Dataset', output=\"/content/COVID-19_Radiography_Dataset/COVID-19_Radiography_Dataset/output_result\", ratio=(.8, .2))"
      ],
      "execution_count": null,
      "outputs": [
        {
          "output_type": "stream",
          "text": [
            "Copying files: 21165 files [00:05, 4187.75 files/s]\n"
          ],
          "name": "stderr"
        }
      ]
    },
    {
      "cell_type": "markdown",
      "metadata": {
        "id": "Jjw36j_g76Qs"
      },
      "source": [
        "**DATASET DIRECTORY**"
      ]
    },
    {
      "cell_type": "code",
      "metadata": {
        "id": "1gGxo3tZjqbu"
      },
      "source": [
        "base_dir = '/content/COVID-19_Radiography_Dataset/COVID-19_Radiography_Dataset/output_result'\n",
        "train_dir = os.path.join(base_dir,'train')\n",
        "validation_dir = os.path.join(base_dir, 'val')"
      ],
      "execution_count": null,
      "outputs": []
    },
    {
      "cell_type": "code",
      "metadata": {
        "id": "aNg96N6Sjyj7"
      },
      "source": [
        "ViralPneumonia = os.path.join(base_dir,'Viral Pneumonia')\n",
        "train_ViralPneumonia = os.path.join(train_dir, 'Viral Pneumonia')\n",
        "val_ViralPneumonia = os.path.join(validation_dir, 'Viral Pneumonia')"
      ],
      "execution_count": null,
      "outputs": []
    },
    {
      "cell_type": "code",
      "metadata": {
        "id": "TOtm6vHgkMZy"
      },
      "source": [
        "Normal = os.path.join(base_dir,'Normal')\n",
        "train_Normal = os.path.join(train_dir, 'Normal')\n",
        "val_Normal = os.path.join(validation_dir, 'Normal')"
      ],
      "execution_count": null,
      "outputs": []
    },
    {
      "cell_type": "code",
      "metadata": {
        "id": "rkBQ0azlkakC"
      },
      "source": [
        "LungOpacity = os.path.join(base_dir,'LungOpacity')\n",
        "train_LungOpacity = os.path.join(train_dir, 'LungOpacity')\n",
        "val_LungOpacity = os.path.join(validation_dir, 'LungOpacity')"
      ],
      "execution_count": null,
      "outputs": []
    },
    {
      "cell_type": "markdown",
      "metadata": {
        "id": "rBHiNep78IKz"
      },
      "source": [
        "**CHECKING THE TRAIN AND VAL DIRECTORY**"
      ]
    },
    {
      "cell_type": "code",
      "metadata": {
        "colab": {
          "base_uri": "https://localhost:8080/"
        },
        "id": "ACbEQ_YKkk3c",
        "outputId": "6c34adc7-d744-4a40-bde1-f8c5b57fff59"
      },
      "source": [
        "os.listdir('/content/COVID-19_Radiography_Dataset/COVID-19_Radiography_Dataset/output_result/train')"
      ],
      "execution_count": null,
      "outputs": [
        {
          "output_type": "execute_result",
          "data": {
            "text/plain": [
              "['Viral Pneumonia', 'COVID', 'Normal', 'Lung_Opacity']"
            ]
          },
          "metadata": {
            "tags": []
          },
          "execution_count": 12
        }
      ]
    },
    {
      "cell_type": "code",
      "metadata": {
        "colab": {
          "base_uri": "https://localhost:8080/"
        },
        "id": "jb4TcUlHk4Vc",
        "outputId": "a05917a1-8c85-4643-daa5-bfd654803492"
      },
      "source": [
        "os.listdir('/content/COVID-19_Radiography_Dataset/COVID-19_Radiography_Dataset/output_result/val')"
      ],
      "execution_count": null,
      "outputs": [
        {
          "output_type": "execute_result",
          "data": {
            "text/plain": [
              "['Viral Pneumonia', 'COVID', 'Normal', 'Lung_Opacity']"
            ]
          },
          "metadata": {
            "tags": []
          },
          "execution_count": 13
        }
      ]
    },
    {
      "cell_type": "markdown",
      "metadata": {
        "id": "1gU_Gvll8P2D"
      },
      "source": [
        "**TRAINING DATA DIRECTORY**"
      ]
    },
    {
      "cell_type": "code",
      "metadata": {
        "id": "in_wva-fk6-0"
      },
      "source": [
        "train_clean_dir = os.path.join(train_dir, 'Viral Pneumonia')\n",
        "train_clean_dir = os.path.join(train_dir, 'Normal')\n",
        "train_clean_dir = os.path.join(train_dir, 'Lung_Opacity')\n",
        "train_clean_dir = os.path.join(train_dir, 'COVID')"
      ],
      "execution_count": null,
      "outputs": []
    },
    {
      "cell_type": "markdown",
      "metadata": {
        "id": "IPR5CPYT8TIc"
      },
      "source": [
        "**VALIDATION DATA DIRECTORY**"
      ]
    },
    {
      "cell_type": "code",
      "metadata": {
        "id": "NyQTdvyrlTkR"
      },
      "source": [
        "validation_clean_dir = os.path.join(validation_dir, 'Viral Pneumonia')\n",
        "validation_clean_dir = os.path.join(validation_dir, 'Normal')\n",
        "validation_clean_dir = os.path.join(validation_dir, 'Lung_Opacity')\n",
        "validation_clean_dir = os.path.join(validation_dir, 'COVID')"
      ],
      "execution_count": null,
      "outputs": []
    },
    {
      "cell_type": "markdown",
      "metadata": {
        "id": "XskEr0nI8ZMx"
      },
      "source": [
        "**IMAGES AUGMENTATION**"
      ]
    },
    {
      "cell_type": "code",
      "metadata": {
        "id": "7jL5r191lfku"
      },
      "source": [
        "train_datagen = ImageDataGenerator(\n",
        "                    rescale=1./255,\n",
        "                    rotation_range=20,\n",
        "                    horizontal_flip=True,\n",
        "                    shear_range = 0.2,\n",
        "                    fill_mode = 'nearest')\n",
        " \n",
        "test_datagen = ImageDataGenerator(\n",
        "                    rescale=1./255,\n",
        "                    rotation_range=20,\n",
        "                    horizontal_flip=True,\n",
        "                    shear_range = 0.2,\n",
        "                    fill_mode = 'nearest')"
      ],
      "execution_count": null,
      "outputs": []
    },
    {
      "cell_type": "markdown",
      "metadata": {
        "id": "fLJ65G1L8iBq"
      },
      "source": [
        "**IMAGES GENERATOR**"
      ]
    },
    {
      "cell_type": "code",
      "metadata": {
        "colab": {
          "base_uri": "https://localhost:8080/"
        },
        "id": "rG08-Axrli4L",
        "outputId": "62ec8b6c-c791-40f3-cb5d-a9035f909df1"
      },
      "source": [
        "train_generator = train_datagen.flow_from_directory(\n",
        "        train_dir, \n",
        "        target_size=(150, 150),  # mengubah resolusi seluruh gambar menjadi 150x150 piksel\n",
        "        batch_size=4,\n",
        "        class_mode='categorical',\n",
        "        shuffle=True\n",
        "    ) \n",
        " \n",
        "validation_generator = test_datagen.flow_from_directory(\n",
        "        validation_dir,\n",
        "        target_size=(150, 150), \n",
        "        batch_size=4, \n",
        "        class_mode='categorical',\n",
        "        shuffle=True\n",
        "    )"
      ],
      "execution_count": null,
      "outputs": [
        {
          "output_type": "stream",
          "text": [
            "Found 16930 images belonging to 4 classes.\n",
            "Found 4235 images belonging to 4 classes.\n"
          ],
          "name": "stdout"
        }
      ]
    },
    {
      "cell_type": "markdown",
      "metadata": {
        "id": "9A3dR0hj8lP6"
      },
      "source": [
        "**MODEL SEQUENTIALS WITH CONV2D MAXPOOLING LAYER**"
      ]
    },
    {
      "cell_type": "code",
      "metadata": {
        "id": "78eoiGEOqplo"
      },
      "source": [
        "model = tf.keras.models.Sequential([\n",
        "    tf.keras.layers.Conv2D(64, (3,3), activation='relu', input_shape=(150, 150, 3)),\n",
        "    tf.keras.layers.MaxPooling2D(pool_size = (2,2), padding = 'valid'),\n",
        "    tf.keras.layers.Conv2D(16, (3,3), activation='relu'),\n",
        "    tf.keras.layers.MaxPooling2D(pool_size = (2,2), padding = 'valid'),\n",
        "    tf.keras.layers.Flatten(),\n",
        "    tf.keras.layers. Dropout(0.3),\n",
        "    tf.keras.layers.Dense(518, activation='relu'),\n",
        "    tf.keras.layers.Dense(4, activation='softmax')\n",
        "])"
      ],
      "execution_count": null,
      "outputs": []
    },
    {
      "cell_type": "code",
      "metadata": {
        "colab": {
          "base_uri": "https://localhost:8080/"
        },
        "id": "JJOTjsL-rZBh",
        "outputId": "2a7b7595-78cb-47a4-c851-5ecb6d2daf4a"
      },
      "source": [
        "model.summary()"
      ],
      "execution_count": null,
      "outputs": [
        {
          "output_type": "stream",
          "text": [
            "Model: \"sequential_7\"\n",
            "_________________________________________________________________\n",
            "Layer (type)                 Output Shape              Param #   \n",
            "=================================================================\n",
            "conv2d_14 (Conv2D)           (None, 148, 148, 64)      1792      \n",
            "_________________________________________________________________\n",
            "max_pooling2d_14 (MaxPooling (None, 74, 74, 64)        0         \n",
            "_________________________________________________________________\n",
            "conv2d_15 (Conv2D)           (None, 72, 72, 16)        9232      \n",
            "_________________________________________________________________\n",
            "max_pooling2d_15 (MaxPooling (None, 36, 36, 16)        0         \n",
            "_________________________________________________________________\n",
            "flatten_7 (Flatten)          (None, 20736)             0         \n",
            "_________________________________________________________________\n",
            "dropout_7 (Dropout)          (None, 20736)             0         \n",
            "_________________________________________________________________\n",
            "dense_14 (Dense)             (None, 518)               10741766  \n",
            "_________________________________________________________________\n",
            "dense_15 (Dense)             (None, 4)                 2076      \n",
            "=================================================================\n",
            "Total params: 10,754,866\n",
            "Trainable params: 10,754,866\n",
            "Non-trainable params: 0\n",
            "_________________________________________________________________\n"
          ],
          "name": "stdout"
        }
      ]
    },
    {
      "cell_type": "markdown",
      "metadata": {
        "id": "5SIBL4bM86nR"
      },
      "source": [
        "**COMPILE MODEL**"
      ]
    },
    {
      "cell_type": "code",
      "metadata": {
        "id": "Ua0s5HohrdHx",
        "colab": {
          "base_uri": "https://localhost:8080/"
        },
        "outputId": "afc6ad63-fccc-45b2-a17d-526217e94697"
      },
      "source": [
        "# compile model dengan 'adam' optimizer loss function 'categorical_crossentropy' \n",
        "model.compile(loss='categorical_crossentropy',\n",
        "              optimizer=tf.optimizers.Adam(lr=0.001),\n",
        "              metrics=['accuracy'])"
      ],
      "execution_count": null,
      "outputs": [
        {
          "output_type": "stream",
          "text": [
            "/usr/local/lib/python3.7/dist-packages/tensorflow/python/keras/optimizer_v2/optimizer_v2.py:375: UserWarning: The `lr` argument is deprecated, use `learning_rate` instead.\n",
            "  \"The `lr` argument is deprecated, use `learning_rate` instead.\")\n"
          ],
          "name": "stderr"
        }
      ]
    },
    {
      "cell_type": "markdown",
      "metadata": {
        "id": "BE-alyw38-0x"
      },
      "source": [
        "**DEFINE CALLBACK**"
      ]
    },
    {
      "cell_type": "code",
      "metadata": {
        "id": "gLGWDtz7ri8i"
      },
      "source": [
        "class Callback(tf.keras.callbacks.Callback):\n",
        "  def on_epoch_end(self, epoch, logs={}):\n",
        "    if(logs.get('accuracy') > 0.85 and logs.get('val_accuracy') > 0.85): \n",
        "      print(\"\\nWe have reached %2.2f%% accuracy, so we will stop training.\" %(0.85*100))\n",
        "      self.model.stop_training = True\n",
        "\n",
        "callbacks = Callback()"
      ],
      "execution_count": null,
      "outputs": []
    },
    {
      "cell_type": "markdown",
      "metadata": {
        "id": "zsMnE4Xn9BS6"
      },
      "source": [
        "**TRAINING MODEL**"
      ]
    },
    {
      "cell_type": "code",
      "metadata": {
        "colab": {
          "base_uri": "https://localhost:8080/"
        },
        "id": "yeQdcE61rx9K",
        "outputId": "6550d04e-b9b7-484d-989d-32463f8f31f0"
      },
      "source": [
        "training = model.fit(\n",
        "      train_generator,\n",
        "      steps_per_epoch=20,  \n",
        "      epochs=200, \n",
        "      validation_data=validation_generator, \n",
        "      validation_steps=10,  \n",
        "      verbose=2,\n",
        "      callbacks=[callbacks])"
      ],
      "execution_count": null,
      "outputs": [
        {
          "output_type": "stream",
          "text": [
            "Epoch 1/200\n",
            "20/20 - 7s - loss: 0.4542 - accuracy: 0.8375 - val_loss: 0.4893 - val_accuracy: 0.9000\n",
            "Epoch 2/200\n",
            "20/20 - 6s - loss: 0.6181 - accuracy: 0.7500 - val_loss: 0.4974 - val_accuracy: 0.7250\n",
            "Epoch 3/200\n",
            "20/20 - 7s - loss: 0.5956 - accuracy: 0.7375 - val_loss: 0.6172 - val_accuracy: 0.6750\n",
            "Epoch 4/200\n",
            "20/20 - 6s - loss: 0.7414 - accuracy: 0.6875 - val_loss: 0.6939 - val_accuracy: 0.7250\n",
            "Epoch 5/200\n",
            "20/20 - 7s - loss: 0.6704 - accuracy: 0.7000 - val_loss: 0.5095 - val_accuracy: 0.8500\n",
            "Epoch 6/200\n",
            "20/20 - 6s - loss: 0.6098 - accuracy: 0.7000 - val_loss: 0.5683 - val_accuracy: 0.7500\n",
            "Epoch 7/200\n",
            "20/20 - 6s - loss: 0.7799 - accuracy: 0.7125 - val_loss: 0.3947 - val_accuracy: 0.8500\n",
            "Epoch 8/200\n",
            "20/20 - 7s - loss: 0.5987 - accuracy: 0.7750 - val_loss: 0.8625 - val_accuracy: 0.7750\n",
            "Epoch 9/200\n",
            "20/20 - 7s - loss: 0.5919 - accuracy: 0.8000 - val_loss: 0.6009 - val_accuracy: 0.7250\n",
            "Epoch 10/200\n",
            "20/20 - 6s - loss: 0.5683 - accuracy: 0.7875 - val_loss: 0.6126 - val_accuracy: 0.7250\n",
            "Epoch 11/200\n",
            "20/20 - 7s - loss: 0.5600 - accuracy: 0.7500 - val_loss: 0.5458 - val_accuracy: 0.8000\n",
            "Epoch 12/200\n",
            "20/20 - 7s - loss: 0.4837 - accuracy: 0.8125 - val_loss: 0.8010 - val_accuracy: 0.6500\n",
            "Epoch 13/200\n",
            "20/20 - 7s - loss: 0.7901 - accuracy: 0.6750 - val_loss: 0.7635 - val_accuracy: 0.7000\n",
            "Epoch 14/200\n",
            "20/20 - 6s - loss: 0.5443 - accuracy: 0.8000 - val_loss: 0.6399 - val_accuracy: 0.7500\n",
            "Epoch 15/200\n",
            "20/20 - 7s - loss: 0.4102 - accuracy: 0.8375 - val_loss: 0.6557 - val_accuracy: 0.7500\n",
            "Epoch 16/200\n",
            "20/20 - 7s - loss: 0.7700 - accuracy: 0.7000 - val_loss: 0.6440 - val_accuracy: 0.6500\n",
            "Epoch 17/200\n",
            "20/20 - 7s - loss: 0.5006 - accuracy: 0.8000 - val_loss: 0.7206 - val_accuracy: 0.7250\n",
            "Epoch 18/200\n",
            "20/20 - 6s - loss: 0.6405 - accuracy: 0.7500 - val_loss: 0.7455 - val_accuracy: 0.7750\n",
            "Epoch 19/200\n",
            "20/20 - 6s - loss: 0.6561 - accuracy: 0.7250 - val_loss: 0.5229 - val_accuracy: 0.7750\n",
            "Epoch 20/200\n",
            "20/20 - 7s - loss: 0.6692 - accuracy: 0.7125 - val_loss: 0.7848 - val_accuracy: 0.5500\n",
            "Epoch 21/200\n",
            "20/20 - 7s - loss: 0.8144 - accuracy: 0.6250 - val_loss: 0.4964 - val_accuracy: 0.8250\n",
            "Epoch 22/200\n",
            "20/20 - 6s - loss: 0.6459 - accuracy: 0.7625 - val_loss: 0.6954 - val_accuracy: 0.6500\n",
            "Epoch 23/200\n",
            "20/20 - 6s - loss: 0.6521 - accuracy: 0.7375 - val_loss: 0.3391 - val_accuracy: 0.9000\n",
            "Epoch 24/200\n",
            "20/20 - 6s - loss: 0.5963 - accuracy: 0.7875 - val_loss: 0.4233 - val_accuracy: 0.8250\n",
            "Epoch 25/200\n",
            "20/20 - 6s - loss: 0.6714 - accuracy: 0.8000 - val_loss: 0.6015 - val_accuracy: 0.8250\n",
            "Epoch 26/200\n",
            "20/20 - 6s - loss: 0.7266 - accuracy: 0.7375 - val_loss: 0.6249 - val_accuracy: 0.8000\n",
            "Epoch 27/200\n",
            "20/20 - 6s - loss: 0.6187 - accuracy: 0.7875 - val_loss: 0.6134 - val_accuracy: 0.7250\n",
            "Epoch 28/200\n",
            "20/20 - 6s - loss: 0.6870 - accuracy: 0.7875 - val_loss: 0.6797 - val_accuracy: 0.6750\n",
            "Epoch 29/200\n",
            "20/20 - 6s - loss: 0.5682 - accuracy: 0.8000 - val_loss: 0.5811 - val_accuracy: 0.8000\n",
            "Epoch 30/200\n",
            "20/20 - 6s - loss: 0.4942 - accuracy: 0.8125 - val_loss: 0.6695 - val_accuracy: 0.7000\n",
            "Epoch 31/200\n",
            "20/20 - 6s - loss: 0.6787 - accuracy: 0.6875 - val_loss: 0.6907 - val_accuracy: 0.7250\n",
            "Epoch 32/200\n",
            "20/20 - 6s - loss: 0.6006 - accuracy: 0.7250 - val_loss: 0.7773 - val_accuracy: 0.6000\n",
            "Epoch 33/200\n",
            "20/20 - 6s - loss: 0.7547 - accuracy: 0.6625 - val_loss: 0.6537 - val_accuracy: 0.7000\n",
            "Epoch 34/200\n",
            "20/20 - 6s - loss: 0.6141 - accuracy: 0.7000 - val_loss: 0.5681 - val_accuracy: 0.7500\n",
            "Epoch 35/200\n",
            "20/20 - 7s - loss: 0.7189 - accuracy: 0.7000 - val_loss: 0.6732 - val_accuracy: 0.8000\n",
            "Epoch 36/200\n",
            "20/20 - 7s - loss: 0.6654 - accuracy: 0.7250 - val_loss: 0.5546 - val_accuracy: 0.8500\n",
            "Epoch 37/200\n",
            "20/20 - 6s - loss: 0.6082 - accuracy: 0.7250 - val_loss: 0.5784 - val_accuracy: 0.8500\n",
            "Epoch 38/200\n",
            "20/20 - 7s - loss: 0.5692 - accuracy: 0.8125 - val_loss: 0.6332 - val_accuracy: 0.7500\n",
            "Epoch 39/200\n",
            "20/20 - 6s - loss: 0.7291 - accuracy: 0.6875 - val_loss: 0.5991 - val_accuracy: 0.7000\n",
            "Epoch 40/200\n",
            "20/20 - 6s - loss: 0.5839 - accuracy: 0.7750 - val_loss: 0.7365 - val_accuracy: 0.6500\n",
            "Epoch 41/200\n",
            "20/20 - 6s - loss: 0.6371 - accuracy: 0.7500 - val_loss: 0.3096 - val_accuracy: 0.9250\n",
            "Epoch 42/200\n",
            "20/20 - 6s - loss: 0.7230 - accuracy: 0.6875 - val_loss: 0.7361 - val_accuracy: 0.6500\n",
            "Epoch 43/200\n",
            "20/20 - 7s - loss: 0.4430 - accuracy: 0.8625 - val_loss: 0.5632 - val_accuracy: 0.8250\n",
            "Epoch 44/200\n",
            "20/20 - 7s - loss: 0.5639 - accuracy: 0.7500 - val_loss: 0.6103 - val_accuracy: 0.7250\n",
            "Epoch 45/200\n",
            "20/20 - 7s - loss: 0.5359 - accuracy: 0.7875 - val_loss: 0.7928 - val_accuracy: 0.6750\n",
            "Epoch 46/200\n",
            "20/20 - 7s - loss: 0.6784 - accuracy: 0.6625 - val_loss: 0.6753 - val_accuracy: 0.7500\n",
            "Epoch 47/200\n",
            "20/20 - 7s - loss: 0.6633 - accuracy: 0.7625 - val_loss: 0.6622 - val_accuracy: 0.7250\n",
            "Epoch 48/200\n",
            "20/20 - 6s - loss: 0.6949 - accuracy: 0.7625 - val_loss: 0.4812 - val_accuracy: 0.7750\n",
            "Epoch 49/200\n",
            "20/20 - 6s - loss: 0.5330 - accuracy: 0.8375 - val_loss: 0.6540 - val_accuracy: 0.7750\n",
            "Epoch 50/200\n",
            "20/20 - 6s - loss: 0.6193 - accuracy: 0.7375 - val_loss: 0.7686 - val_accuracy: 0.7750\n",
            "Epoch 51/200\n",
            "20/20 - 6s - loss: 0.6050 - accuracy: 0.7500 - val_loss: 0.9594 - val_accuracy: 0.6750\n",
            "Epoch 52/200\n",
            "20/20 - 6s - loss: 0.7269 - accuracy: 0.7375 - val_loss: 0.6087 - val_accuracy: 0.7500\n",
            "Epoch 53/200\n",
            "20/20 - 6s - loss: 0.5560 - accuracy: 0.7750 - val_loss: 0.5535 - val_accuracy: 0.8000\n",
            "Epoch 54/200\n",
            "20/20 - 6s - loss: 0.5273 - accuracy: 0.7875 - val_loss: 0.6440 - val_accuracy: 0.6750\n",
            "Epoch 55/200\n",
            "20/20 - 7s - loss: 0.5642 - accuracy: 0.7875 - val_loss: 0.5053 - val_accuracy: 0.8500\n",
            "Epoch 56/200\n",
            "20/20 - 6s - loss: 0.6308 - accuracy: 0.7250 - val_loss: 0.5650 - val_accuracy: 0.7750\n",
            "Epoch 57/200\n",
            "20/20 - 6s - loss: 0.5699 - accuracy: 0.7250 - val_loss: 0.6800 - val_accuracy: 0.8000\n",
            "Epoch 58/200\n",
            "20/20 - 6s - loss: 0.5698 - accuracy: 0.7500 - val_loss: 0.4450 - val_accuracy: 0.8250\n",
            "Epoch 59/200\n",
            "20/20 - 7s - loss: 0.6304 - accuracy: 0.7500 - val_loss: 0.8227 - val_accuracy: 0.7000\n",
            "Epoch 60/200\n",
            "20/20 - 6s - loss: 0.6452 - accuracy: 0.7125 - val_loss: 0.6157 - val_accuracy: 0.7500\n",
            "Epoch 61/200\n",
            "20/20 - 7s - loss: 0.4913 - accuracy: 0.7875 - val_loss: 0.4756 - val_accuracy: 0.8250\n",
            "Epoch 62/200\n",
            "20/20 - 7s - loss: 0.5387 - accuracy: 0.7750 - val_loss: 0.8700 - val_accuracy: 0.6750\n",
            "Epoch 63/200\n",
            "20/20 - 7s - loss: 0.6170 - accuracy: 0.7750 - val_loss: 0.4079 - val_accuracy: 0.9000\n",
            "Epoch 64/200\n",
            "20/20 - 7s - loss: 0.7109 - accuracy: 0.7500 - val_loss: 0.4834 - val_accuracy: 0.8500\n",
            "Epoch 65/200\n",
            "20/20 - 7s - loss: 0.5327 - accuracy: 0.8000 - val_loss: 0.4596 - val_accuracy: 0.8250\n",
            "Epoch 66/200\n",
            "20/20 - 6s - loss: 0.6744 - accuracy: 0.7500 - val_loss: 0.7116 - val_accuracy: 0.6750\n",
            "Epoch 67/200\n",
            "20/20 - 7s - loss: 0.6781 - accuracy: 0.7500 - val_loss: 0.4586 - val_accuracy: 0.7250\n",
            "Epoch 68/200\n",
            "20/20 - 7s - loss: 0.6846 - accuracy: 0.6875 - val_loss: 0.4235 - val_accuracy: 0.8750\n",
            "Epoch 69/200\n",
            "20/20 - 7s - loss: 0.4715 - accuracy: 0.8250 - val_loss: 0.6354 - val_accuracy: 0.7750\n",
            "Epoch 70/200\n",
            "20/20 - 7s - loss: 0.6206 - accuracy: 0.7500 - val_loss: 0.6270 - val_accuracy: 0.7750\n",
            "Epoch 71/200\n",
            "20/20 - 7s - loss: 0.5963 - accuracy: 0.7000 - val_loss: 0.4672 - val_accuracy: 0.8250\n",
            "Epoch 72/200\n",
            "20/20 - 7s - loss: 0.6949 - accuracy: 0.7625 - val_loss: 0.4596 - val_accuracy: 0.8500\n",
            "Epoch 73/200\n",
            "20/20 - 7s - loss: 0.6639 - accuracy: 0.7500 - val_loss: 0.6539 - val_accuracy: 0.7500\n",
            "Epoch 74/200\n",
            "20/20 - 7s - loss: 0.6972 - accuracy: 0.7625 - val_loss: 0.7575 - val_accuracy: 0.6750\n",
            "Epoch 75/200\n",
            "20/20 - 7s - loss: 0.7145 - accuracy: 0.7375 - val_loss: 0.6337 - val_accuracy: 0.7500\n",
            "Epoch 76/200\n",
            "20/20 - 7s - loss: 0.5673 - accuracy: 0.7375 - val_loss: 0.7350 - val_accuracy: 0.6500\n",
            "Epoch 77/200\n",
            "20/20 - 7s - loss: 0.5316 - accuracy: 0.8250 - val_loss: 0.7357 - val_accuracy: 0.7000\n",
            "Epoch 78/200\n",
            "20/20 - 7s - loss: 0.5737 - accuracy: 0.8000 - val_loss: 0.6355 - val_accuracy: 0.7000\n",
            "Epoch 79/200\n",
            "20/20 - 7s - loss: 0.5910 - accuracy: 0.8125 - val_loss: 0.5382 - val_accuracy: 0.7250\n",
            "Epoch 80/200\n",
            "20/20 - 7s - loss: 0.4904 - accuracy: 0.8375 - val_loss: 0.5256 - val_accuracy: 0.7750\n",
            "Epoch 81/200\n",
            "20/20 - 7s - loss: 0.6236 - accuracy: 0.7750 - val_loss: 0.4603 - val_accuracy: 0.8000\n",
            "Epoch 82/200\n",
            "20/20 - 6s - loss: 0.6397 - accuracy: 0.7375 - val_loss: 0.4792 - val_accuracy: 0.8500\n",
            "Epoch 83/200\n",
            "20/20 - 7s - loss: 0.6697 - accuracy: 0.7375 - val_loss: 0.5822 - val_accuracy: 0.7000\n",
            "Epoch 84/200\n",
            "20/20 - 7s - loss: 0.8314 - accuracy: 0.6375 - val_loss: 0.7735 - val_accuracy: 0.7000\n",
            "Epoch 85/200\n",
            "20/20 - 6s - loss: 0.4508 - accuracy: 0.8750 - val_loss: 0.6221 - val_accuracy: 0.7000\n",
            "Epoch 86/200\n",
            "20/20 - 6s - loss: 0.5413 - accuracy: 0.7875 - val_loss: 0.6625 - val_accuracy: 0.7000\n",
            "Epoch 87/200\n",
            "20/20 - 7s - loss: 0.5625 - accuracy: 0.7500 - val_loss: 0.6029 - val_accuracy: 0.7250\n",
            "Epoch 88/200\n",
            "20/20 - 6s - loss: 0.5071 - accuracy: 0.8000 - val_loss: 0.6974 - val_accuracy: 0.7000\n",
            "Epoch 89/200\n",
            "20/20 - 6s - loss: 0.5890 - accuracy: 0.7250 - val_loss: 0.6638 - val_accuracy: 0.6250\n",
            "Epoch 90/200\n",
            "20/20 - 6s - loss: 0.3968 - accuracy: 0.8375 - val_loss: 0.5706 - val_accuracy: 0.7250\n",
            "Epoch 91/200\n",
            "20/20 - 7s - loss: 0.5526 - accuracy: 0.7375 - val_loss: 0.5407 - val_accuracy: 0.8000\n",
            "Epoch 92/200\n",
            "20/20 - 7s - loss: 0.5663 - accuracy: 0.7250 - val_loss: 0.5893 - val_accuracy: 0.7750\n",
            "Epoch 93/200\n",
            "20/20 - 7s - loss: 0.4527 - accuracy: 0.8500 - val_loss: 0.5135 - val_accuracy: 0.7750\n",
            "Epoch 94/200\n",
            "20/20 - 7s - loss: 0.7026 - accuracy: 0.7000 - val_loss: 0.7764 - val_accuracy: 0.6250\n",
            "Epoch 95/200\n",
            "20/20 - 6s - loss: 0.5863 - accuracy: 0.7750 - val_loss: 0.5744 - val_accuracy: 0.7750\n",
            "Epoch 96/200\n",
            "20/20 - 6s - loss: 0.6314 - accuracy: 0.7500 - val_loss: 0.6065 - val_accuracy: 0.7250\n",
            "Epoch 97/200\n",
            "20/20 - 6s - loss: 0.5056 - accuracy: 0.7875 - val_loss: 0.7454 - val_accuracy: 0.7750\n",
            "Epoch 98/200\n",
            "20/20 - 6s - loss: 0.5503 - accuracy: 0.7625 - val_loss: 0.6778 - val_accuracy: 0.7250\n",
            "Epoch 99/200\n",
            "20/20 - 6s - loss: 0.7520 - accuracy: 0.7250 - val_loss: 0.5194 - val_accuracy: 0.8000\n",
            "Epoch 100/200\n",
            "20/20 - 7s - loss: 0.7331 - accuracy: 0.7250 - val_loss: 0.5627 - val_accuracy: 0.8000\n",
            "Epoch 101/200\n",
            "20/20 - 6s - loss: 0.6061 - accuracy: 0.7875 - val_loss: 0.5566 - val_accuracy: 0.7500\n",
            "Epoch 102/200\n",
            "20/20 - 7s - loss: 0.5624 - accuracy: 0.7750 - val_loss: 0.4434 - val_accuracy: 0.8750\n",
            "Epoch 103/200\n",
            "20/20 - 6s - loss: 0.5746 - accuracy: 0.7750 - val_loss: 0.7077 - val_accuracy: 0.6750\n",
            "Epoch 104/200\n",
            "20/20 - 6s - loss: 0.5737 - accuracy: 0.8250 - val_loss: 0.6786 - val_accuracy: 0.8000\n",
            "Epoch 105/200\n",
            "20/20 - 7s - loss: 0.6720 - accuracy: 0.7250 - val_loss: 0.5116 - val_accuracy: 0.8250\n",
            "Epoch 106/200\n",
            "20/20 - 7s - loss: 0.5232 - accuracy: 0.8000 - val_loss: 0.3894 - val_accuracy: 0.8000\n",
            "Epoch 107/200\n",
            "20/20 - 7s - loss: 0.5536 - accuracy: 0.7750 - val_loss: 0.6689 - val_accuracy: 0.7500\n",
            "Epoch 108/200\n",
            "20/20 - 7s - loss: 0.6744 - accuracy: 0.7500 - val_loss: 0.5122 - val_accuracy: 0.7750\n",
            "Epoch 109/200\n",
            "20/20 - 7s - loss: 0.5552 - accuracy: 0.7625 - val_loss: 0.5232 - val_accuracy: 0.7750\n",
            "Epoch 110/200\n",
            "20/20 - 7s - loss: 0.8083 - accuracy: 0.6000 - val_loss: 0.3771 - val_accuracy: 0.8750\n",
            "Epoch 111/200\n",
            "20/20 - 7s - loss: 0.6943 - accuracy: 0.6750 - val_loss: 0.6024 - val_accuracy: 0.8500\n",
            "Epoch 112/200\n",
            "20/20 - 7s - loss: 0.6945 - accuracy: 0.6625 - val_loss: 0.5486 - val_accuracy: 0.7750\n",
            "Epoch 113/200\n",
            "20/20 - 7s - loss: 0.6738 - accuracy: 0.7375 - val_loss: 0.5643 - val_accuracy: 0.8250\n",
            "Epoch 114/200\n",
            "20/20 - 7s - loss: 0.6033 - accuracy: 0.7750 - val_loss: 0.3535 - val_accuracy: 0.8750\n",
            "Epoch 115/200\n",
            "20/20 - 7s - loss: 0.5585 - accuracy: 0.8000 - val_loss: 0.6699 - val_accuracy: 0.7000\n",
            "Epoch 116/200\n",
            "20/20 - 6s - loss: 0.4886 - accuracy: 0.8250 - val_loss: 0.5493 - val_accuracy: 0.7500\n",
            "Epoch 117/200\n",
            "20/20 - 6s - loss: 0.6865 - accuracy: 0.7375 - val_loss: 0.7115 - val_accuracy: 0.7000\n",
            "Epoch 118/200\n",
            "20/20 - 7s - loss: 0.5418 - accuracy: 0.7875 - val_loss: 0.5266 - val_accuracy: 0.8250\n",
            "Epoch 119/200\n",
            "20/20 - 7s - loss: 0.5467 - accuracy: 0.7375 - val_loss: 0.5719 - val_accuracy: 0.8500\n",
            "Epoch 120/200\n",
            "20/20 - 6s - loss: 0.7084 - accuracy: 0.7375 - val_loss: 0.4964 - val_accuracy: 0.7750\n",
            "Epoch 121/200\n",
            "20/20 - 6s - loss: 0.6284 - accuracy: 0.7750 - val_loss: 0.5046 - val_accuracy: 0.8250\n",
            "Epoch 122/200\n",
            "20/20 - 6s - loss: 0.5430 - accuracy: 0.7750 - val_loss: 0.5828 - val_accuracy: 0.8000\n",
            "Epoch 123/200\n",
            "20/20 - 6s - loss: 0.6894 - accuracy: 0.7125 - val_loss: 0.5881 - val_accuracy: 0.8000\n",
            "Epoch 124/200\n",
            "20/20 - 7s - loss: 0.5771 - accuracy: 0.8000 - val_loss: 0.5582 - val_accuracy: 0.8250\n",
            "Epoch 125/200\n",
            "20/20 - 7s - loss: 0.5244 - accuracy: 0.7875 - val_loss: 0.4173 - val_accuracy: 0.8750\n",
            "Epoch 126/200\n",
            "20/20 - 7s - loss: 0.4863 - accuracy: 0.8250 - val_loss: 0.5938 - val_accuracy: 0.7500\n",
            "Epoch 127/200\n",
            "20/20 - 7s - loss: 0.5448 - accuracy: 0.7375 - val_loss: 0.7611 - val_accuracy: 0.7500\n",
            "Epoch 128/200\n",
            "20/20 - 7s - loss: 0.6378 - accuracy: 0.7125 - val_loss: 0.3277 - val_accuracy: 0.9000\n",
            "Epoch 129/200\n",
            "20/20 - 6s - loss: 0.6387 - accuracy: 0.7000 - val_loss: 0.5224 - val_accuracy: 0.8500\n",
            "Epoch 130/200\n",
            "20/20 - 6s - loss: 0.5666 - accuracy: 0.8000 - val_loss: 0.6199 - val_accuracy: 0.7250\n",
            "Epoch 131/200\n",
            "20/20 - 7s - loss: 0.5730 - accuracy: 0.7500 - val_loss: 0.4696 - val_accuracy: 0.8500\n",
            "Epoch 132/200\n",
            "20/20 - 7s - loss: 0.4461 - accuracy: 0.7875 - val_loss: 0.6644 - val_accuracy: 0.7250\n",
            "Epoch 133/200\n",
            "20/20 - 7s - loss: 0.4333 - accuracy: 0.8000 - val_loss: 0.6001 - val_accuracy: 0.7750\n",
            "Epoch 134/200\n",
            "20/20 - 7s - loss: 0.4912 - accuracy: 0.7875 - val_loss: 0.6383 - val_accuracy: 0.6500\n",
            "Epoch 135/200\n",
            "20/20 - 7s - loss: 0.5692 - accuracy: 0.7875 - val_loss: 0.5879 - val_accuracy: 0.7000\n",
            "Epoch 136/200\n",
            "20/20 - 7s - loss: 0.5361 - accuracy: 0.8000 - val_loss: 0.5300 - val_accuracy: 0.7750\n",
            "Epoch 137/200\n",
            "20/20 - 7s - loss: 0.5742 - accuracy: 0.7750 - val_loss: 0.7873 - val_accuracy: 0.7250\n",
            "Epoch 138/200\n",
            "20/20 - 7s - loss: 0.4913 - accuracy: 0.8375 - val_loss: 0.9893 - val_accuracy: 0.5750\n",
            "Epoch 139/200\n",
            "20/20 - 7s - loss: 0.5841 - accuracy: 0.8000 - val_loss: 0.3806 - val_accuracy: 0.8750\n",
            "Epoch 140/200\n",
            "20/20 - 7s - loss: 0.4288 - accuracy: 0.8125 - val_loss: 0.6884 - val_accuracy: 0.6750\n",
            "Epoch 141/200\n",
            "20/20 - 7s - loss: 0.4050 - accuracy: 0.8625 - val_loss: 0.5629 - val_accuracy: 0.8500\n",
            "\n",
            "We have reached 85.00% accuracy, so we will stop training.\n"
          ],
          "name": "stdout"
        }
      ]
    },
    {
      "cell_type": "markdown",
      "metadata": {
        "id": "-O9Q3V7K9F_R"
      },
      "source": [
        "**ACCURATION PLOT**"
      ]
    },
    {
      "cell_type": "code",
      "metadata": {
        "colab": {
          "base_uri": "https://localhost:8080/",
          "height": 285
        },
        "id": "6zFrF3EDT1V7",
        "outputId": "4bfff0ca-d0a4-4449-9ce5-45ec87396662"
      },
      "source": [
        "import seaborn as sns\n",
        "# Create a color palette\n",
        "sns.set_theme(style=\"darkgrid\")\n",
        "\n",
        "plt.plot(range(len(training.history['accuracy'])),training.history['accuracy'], label='Training', color='blue')\n",
        "plt.plot(range(len(training.history['val_accuracy'])),training.history['val_accuracy'], label='Validation', color='red')\n",
        "plt.ylabel('Accuracy')\n",
        "plt.xlabel('Epoch')\n",
        "plt.legend(loc=\"lower right\")\n",
        "plt.show()"
      ],
      "execution_count": null,
      "outputs": [
        {
          "output_type": "display_data",
          "data": {
            "image/png": "[encoded data removed]",
            "text/plain": [
              "<Figure size 432x288 with 1 Axes>"
            ]
          },
          "metadata": {
            "tags": []
          }
        }
      ]
    },
    {
      "cell_type": "markdown",
      "metadata": {
        "id": "C3Elax5h9JZn"
      },
      "source": [
        "**LOSS PLOT**"
      ]
    },
    {
      "cell_type": "code",
      "metadata": {
        "colab": {
          "base_uri": "https://localhost:8080/",
          "height": 285
        },
        "id": "WDmpBNSxtaQh",
        "outputId": "0da3adef-8c91-4114-904e-2e1e9ac96e02"
      },
      "source": [
        "# Create a color palette\n",
        "sns.set_theme(style=\"darkgrid\")\n",
        "\n",
        "plt.plot(range(len(training.history['loss'])),training.history['loss'], label='Training', color='blue')\n",
        "plt.plot(range(len(training.history['val_loss'])),training.history['val_loss'], label='Validation', color='red')\n",
        "plt.ylabel('Loss')\n",
        "plt.xlabel('Epoch')\n",
        "plt.legend(loc=\"upper left\")\n",
        "plt.show()"
      ],
      "execution_count": null,
      "outputs": [
        {
          "output_type": "display_data",
          "data": {
            "image/png": "[encoded data removed]",
            "text/plain": [
              "<Figure size 432x288 with 1 Axes>"
            ]
          },
          "metadata": {
            "tags": []
          }
        }
      ]
    },
    {
      "cell_type": "markdown",
      "metadata": {
        "id": "FoLMDjjf9O-5"
      },
      "source": [
        "**IMAGE PREDICTION**"
      ]
    },
    {
      "cell_type": "code",
      "metadata": {
        "colab": {
          "resources": {
            "http://localhost:8080/nbextensions/google.colab/files.js": {
              "data": "Ly8gQ29weXJpZ2h0IDIwMTcgR29vZ2xlIExMQwovLwovLyBMaWNlbnNlZCB1bmRlciB0aGUgQXBhY2hlIExpY2Vuc2UsIFZlcnNpb24gMi4wICh0aGUgIkxpY2Vuc2UiKTsKLy8geW91IG1heSBub3QgdXNlIHRoaXMgZmlsZSBleGNlcHQgaW4gY29tcGxpYW5jZSB3aXRoIHRoZSBMaWNlbnNlLgovLyBZb3UgbWF5IG9idGFpbiBhIGNvcHkgb2YgdGhlIExpY2Vuc2UgYXQKLy8KLy8gICAgICBodHRwOi8vd3d3LmFwYWNoZS5vcmcvbGljZW5zZXMvTElDRU5TRS0yLjAKLy8KLy8gVW5sZXNzIHJlcXVpcmVkIGJ5IGFwcGxpY2FibGUgbGF3IG9yIGFncmVlZCB0byBpbiB3cml0aW5nLCBzb2Z0d2FyZQovLyBkaXN0cmlidXRlZCB1bmRlciB0aGUgTGljZW5zZSBpcyBkaXN0cmlidXRlZCBvbiBhbiAiQVMgSVMiIEJBU0lTLAovLyBXSVRIT1VUIFdBUlJBTlRJRVMgT1IgQ09ORElUSU9OUyBPRiBBTlkgS0lORCwgZWl0aGVyIGV4cHJlc3Mgb3IgaW1wbGllZC4KLy8gU2VlIHRoZSBMaWNlbnNlIGZvciB0aGUgc3BlY2lmaWMgbGFuZ3VhZ2UgZ292ZXJuaW5nIHBlcm1pc3Npb25zIGFuZAovLyBsaW1pdGF0aW9ucyB1bmRlciB0aGUgTGljZW5zZS4KCi8qKgogKiBAZmlsZW92ZXJ2aWV3IEhlbHBlcnMgZm9yIGdvb2dsZS5jb2xhYiBQeXRob24gbW9kdWxlLgogKi8KKGZ1bmN0aW9uKHNjb3BlKSB7CmZ1bmN0aW9uIHNwYW4odGV4dCwgc3R5bGVBdHRyaWJ1dGVzID0ge30pIHsKICBjb25zdCBlbGVtZW50ID0gZG9jdW1lbnQuY3JlYXRlRWxlbWVudCgnc3BhbicpOwogIGVsZW1lbnQudGV4dENvbnRlbnQgPSB0ZXh0OwogIGZvciAoY29uc3Qga2V5IG9mIE9iamVjdC5rZXlzKHN0eWxlQXR0cmlidXRlcykpIHsKICAgIGVsZW1lbnQuc3R5bGVba2V5XSA9IHN0eWxlQXR0cmlidXRlc1trZXldOwogIH0KICByZXR1cm4gZWxlbWVudDsKfQoKLy8gTWF4IG51bWJlciBvZiBieXRlcyB3aGljaCB3aWxsIGJlIHVwbG9hZGVkIGF0IGEgdGltZS4KY29uc3QgTUFYX1BBWUxPQURfU0laRSA9IDEwMCAqIDEwMjQ7CgpmdW5jdGlvbiBfdXBsb2FkRmlsZXMoaW5wdXRJZCwgb3V0cHV0SWQpIHsKICBjb25zdCBzdGVwcyA9IHVwbG9hZEZpbGVzU3RlcChpbnB1dElkLCBvdXRwdXRJZCk7CiAgY29uc3Qgb3V0cHV0RWxlbWVudCA9IGRvY3VtZW50LmdldEVsZW1lbnRCeUlkKG91dHB1dElkKTsKICAvLyBDYWNoZSBzdGVwcyBvbiB0aGUgb3V0cHV0RWxlbWVudCB0byBtYWtlIGl0IGF2YWlsYWJsZSBmb3IgdGhlIG5leHQgY2FsbAogIC8vIHRvIHVwbG9hZEZpbGVzQ29udGludWUgZnJvbSBQeXRob24uCiAgb3V0cHV0RWxlbWVudC5zdGVwcyA9IHN0ZXBzOwoKICByZXR1cm4gX3VwbG9hZEZpbGVzQ29udGludWUob3V0cHV0SWQpOwp9CgovLyBUaGlzIGlzIHJvdWdobHkgYW4gYXN5bmMgZ2VuZXJhdG9yIChub3Qgc3VwcG9ydGVkIGluIHRoZSBicm93c2VyIHlldCksCi8vIHdoZXJlIHRoZXJlIGFyZSBtdWx0aXBsZSBhc3luY2hyb25vdXMgc3RlcHMgYW5kIHRoZSBQeXRob24gc2lkZSBpcyBnb2luZwovLyB0byBwb2xsIGZvciBjb21wbGV0aW9uIG9mIGVhY2ggc3RlcC4KLy8gVGhpcyB1c2VzIGEgUHJvbWlzZSB0byBibG9jayB0aGUgcHl0aG9uIHNpZGUgb24gY29tcGxldGlvbiBvZiBlYWNoIHN0ZXAsCi8vIHRoZW4gcGFzc2VzIHRoZSByZXN1bHQgb2YgdGhlIHByZXZpb3VzIHN0ZXAgYXMgdGhlIGlucHV0IHRvIHRoZSBuZXh0IHN0ZXAuCmZ1bmN0aW9uIF91cGxvYWRGaWxlc0NvbnRpbnVlKG91dHB1dElkKSB7CiAgY29uc3Qgb3V0cHV0RWxlbWVudCA9IGRvY3VtZW50LmdldEVsZW1lbnRCeUlkKG91dHB1dElkKTsKICBjb25zdCBzdGVwcyA9IG91dHB1dEVsZW1lbnQuc3RlcHM7CgogIGNvbnN0IG5leHQgPSBzdGVwcy5uZXh0KG91dHB1dEVsZW1lbnQubGFzdFByb21pc2VWYWx1ZSk7CiAgcmV0dXJuIFByb21pc2UucmVzb2x2ZShuZXh0LnZhbHVlLnByb21pc2UpLnRoZW4oKHZhbHVlKSA9PiB7CiAgICAvLyBDYWNoZSB0aGUgbGFzdCBwcm9taXNlIHZhbHVlIHRvIG1ha2UgaXQgYXZhaWxhYmxlIHRvIHRoZSBuZXh0CiAgICAvLyBzdGVwIG9mIHRoZSBnZW5lcmF0b3IuCiAgICBvdXRwdXRFbGVtZW50Lmxhc3RQcm9taXNlVmFsdWUgPSB2YWx1ZTsKICAgIHJldHVybiBuZXh0LnZhbHVlLnJlc3BvbnNlOwogIH0pOwp9CgovKioKICogR2VuZXJhdG9yIGZ1bmN0aW9uIHdoaWNoIGlzIGNhbGxlZCBiZXR3ZWVuIGVhY2ggYXN5bmMgc3RlcCBvZiB0aGUgdXBsb2FkCiAqIHByb2Nlc3MuCiAqIEBwYXJhbSB7c3RyaW5nfSBpbnB1dElkIEVsZW1lbnQgSUQgb2YgdGhlIGlucHV0IGZpbGUgcGlja2VyIGVsZW1lbnQuCiAqIEBwYXJhbSB7c3RyaW5nfSBvdXRwdXRJZCBFbGVtZW50IElEIG9mIHRoZSBvdXRwdXQgZGlzcGxheS4KICogQHJldHVybiB7IUl0ZXJhYmxlPCFPYmplY3Q+fSBJdGVyYWJsZSBvZiBuZXh0IHN0ZXBzLgogKi8KZnVuY3Rpb24qIHVwbG9hZEZpbGVzU3RlcChpbnB1dElkLCBvdXRwdXRJZCkgewogIGNvbnN0IGlucHV0RWxlbWVudCA9IGRvY3VtZW50LmdldEVsZW1lbnRCeUlkKGlucHV0SWQpOwogIGlucHV0RWxlbWVudC5kaXNhYmxlZCA9IGZhbHNlOwoKICBjb25zdCBvdXRwdXRFbGVtZW50ID0gZG9jdW1lbnQuZ2V0RWxlbWVudEJ5SWQob3V0cHV0SWQpOwogIG91dHB1dEVsZW1lbnQuaW5uZXJIVE1MID0gJyc7CgogIGNvbnN0IHBpY2tlZFByb21pc2UgPSBuZXcgUHJvbWlzZSgocmVzb2x2ZSkgPT4gewogICAgaW5wdXRFbGVtZW50LmFkZEV2ZW50TGlzdGVuZXIoJ2NoYW5nZScsIChlKSA9PiB7CiAgICAgIHJlc29sdmUoZS50YXJnZXQuZmlsZXMpOwogICAgfSk7CiAgfSk7CgogIGNvbnN0IGNhbmNlbCA9IGRvY3VtZW50LmNyZWF0ZUVsZW1lbnQoJ2J1dHRvbicpOwogIGlucHV0RWxlbWVudC5wYXJlbnRFbGVtZW50LmFwcGVuZENoaWxkKGNhbmNlbCk7CiAgY2FuY2VsLnRleHRDb250ZW50ID0gJ0NhbmNlbCB1cGxvYWQnOwogIGNvbnN0IGNhbmNlbFByb21pc2UgPSBuZXcgUHJvbWlzZSgocmVzb2x2ZSkgPT4gewogICAgY2FuY2VsLm9uY2xpY2sgPSAoKSA9PiB7CiAgICAgIHJlc29sdmUobnVsbCk7CiAgICB9OwogIH0pOwoKICAvLyBXYWl0IGZvciB0aGUgdXNlciB0byBwaWNrIHRoZSBmaWxlcy4KICBjb25zdCBmaWxlcyA9IHlpZWxkIHsKICAgIHByb21pc2U6IFByb21pc2UucmFjZShbcGlja2VkUHJvbWlzZSwgY2FuY2VsUHJvbWlzZV0pLAogICAgcmVzcG9uc2U6IHsKICAgICAgYWN0aW9uOiAnc3RhcnRpbmcnLAogICAgfQogIH07CgogIGNhbmNlbC5yZW1vdmUoKTsKCiAgLy8gRGlzYWJsZSB0aGUgaW5wdXQgZWxlbWVudCBzaW5jZSBmdXJ0aGVyIHBpY2tzIGFyZSBub3QgYWxsb3dlZC4KICBpbnB1dEVsZW1lbnQuZGlzYWJsZWQgPSB0cnVlOwoKICBpZiAoIWZpbGVzKSB7CiAgICByZXR1cm4gewogICAgICByZXNwb25zZTogewogICAgICAgIGFjdGlvbjogJ2NvbXBsZXRlJywKICAgICAgfQogICAgfTsKICB9CgogIGZvciAoY29uc3QgZmlsZSBvZiBmaWxlcykgewogICAgY29uc3QgbGkgPSBkb2N1bWVudC5jcmVhdGVFbGVtZW50KCdsaScpOwogICAgbGkuYXBwZW5kKHNwYW4oZmlsZS5uYW1lLCB7Zm9udFdlaWdodDogJ2JvbGQnfSkpOwogICAgbGkuYXBwZW5kKHNwYW4oCiAgICAgICAgYCgke2ZpbGUudHlwZSB8fCAnbi9hJ30pIC0gJHtmaWxlLnNpemV9IGJ5dGVzLCBgICsKICAgICAgICBgbGFzdCBtb2RpZmllZDogJHsKICAgICAgICAgICAgZmlsZS5sYXN0TW9kaWZpZWREYXRlID8gZmlsZS5sYXN0TW9kaWZpZWREYXRlLnRvTG9jYWxlRGF0ZVN0cmluZygpIDoKICAgICAgICAgICAgICAgICAgICAgICAgICAgICAgICAgICAgJ24vYSd9IC0gYCkpOwogICAgY29uc3QgcGVyY2VudCA9IHNwYW4oJzAlIGRvbmUnKTsKICAgIGxpLmFwcGVuZENoaWxkKHBlcmNlbnQpOwoKICAgIG91dHB1dEVsZW1lbnQuYXBwZW5kQ2hpbGQobGkpOwoKICAgIGNvbnN0IGZpbGVEYXRhUHJvbWlzZSA9IG5ldyBQcm9taXNlKChyZXNvbHZlKSA9PiB7CiAgICAgIGNvbnN0IHJlYWRlciA9IG5ldyBGaWxlUmVhZGVyKCk7CiAgICAgIHJlYWRlci5vbmxvYWQgPSAoZSkgPT4gewogICAgICAgIHJlc29sdmUoZS50YXJnZXQucmVzdWx0KTsKICAgICAgfTsKICAgICAgcmVhZGVyLnJlYWRBc0FycmF5QnVmZmVyKGZpbGUpOwogICAgfSk7CiAgICAvLyBXYWl0IGZvciB0aGUgZGF0YSB0byBiZSByZWFkeS4KICAgIGxldCBmaWxlRGF0YSA9IHlpZWxkIHsKICAgICAgcHJvbWlzZTogZmlsZURhdGFQcm9taXNlLAogICAgICByZXNwb25zZTogewogICAgICAgIGFjdGlvbjogJ2NvbnRpbnVlJywKICAgICAgfQogICAgfTsKCiAgICAvLyBVc2UgYSBjaHVua2VkIHNlbmRpbmcgdG8gYXZvaWQgbWVzc2FnZSBzaXplIGxpbWl0cy4gU2VlIGIvNjIxMTU2NjAuCiAgICBsZXQgcG9zaXRpb24gPSAwOwogICAgZG8gewogICAgICBjb25zdCBsZW5ndGggPSBNYXRoLm1pbihmaWxlRGF0YS5ieXRlTGVuZ3RoIC0gcG9zaXRpb24sIE1BWF9QQVlMT0FEX1NJWkUpOwogICAgICBjb25zdCBjaHVuayA9IG5ldyBVaW50OEFycmF5KGZpbGVEYXRhLCBwb3NpdGlvbiwgbGVuZ3RoKTsKICAgICAgcG9zaXRpb24gKz0gbGVuZ3RoOwoKICAgICAgY29uc3QgYmFzZTY0ID0gYnRvYShTdHJpbmcuZnJvbUNoYXJDb2RlLmFwcGx5KG51bGwsIGNodW5rKSk7CiAgICAgIHlpZWxkIHsKICAgICAgICByZXNwb25zZTogewogICAgICAgICAgYWN0aW9uOiAnYXBwZW5kJywKICAgICAgICAgIGZpbGU6IGZpbGUubmFtZSwKICAgICAgICAgIGRhdGE6IGJhc2U2NCwKICAgICAgICB9LAogICAgICB9OwoKICAgICAgbGV0IHBlcmNlbnREb25lID0gZmlsZURhdGEuYnl0ZUxlbmd0aCA9PT0gMCA/CiAgICAgICAgICAxMDAgOgogICAgICAgICAgTWF0aC5yb3VuZCgocG9zaXRpb24gLyBmaWxlRGF0YS5ieXRlTGVuZ3RoKSAqIDEwMCk7CiAgICAgIHBlcmNlbnQudGV4dENvbnRlbnQgPSBgJHtwZXJjZW50RG9uZX0lIGRvbmVgOwoKICAgIH0gd2hpbGUgKHBvc2l0aW9uIDwgZmlsZURhdGEuYnl0ZUxlbmd0aCk7CiAgfQoKICAvLyBBbGwgZG9uZS4KICB5aWVsZCB7CiAgICByZXNwb25zZTogewogICAgICBhY3Rpb246ICdjb21wbGV0ZScsCiAgICB9CiAgfTsKfQoKc2NvcGUuZ29vZ2xlID0gc2NvcGUuZ29vZ2xlIHx8IHt9OwpzY29wZS5nb29nbGUuY29sYWIgPSBzY29wZS5nb29nbGUuY29sYWIgfHwge307CnNjb3BlLmdvb2dsZS5jb2xhYi5fZmlsZXMgPSB7CiAgX3VwbG9hZEZpbGVzLAogIF91cGxvYWRGaWxlc0NvbnRpbnVlLAp9Owp9KShzZWxmKTsK",
              "ok": true,
              "headers": [
                [
                  "content-type",
                  "application/javascript"
                ]
              ],
              "status": 200,
              "status_text": ""
            }
          },
          "base_uri": "https://localhost:8080/",
          "height": 360
        },
        "id": "CBkM4ypFuGlq",
        "outputId": "309171f2-66f1-41f0-8741-f6fe46cb81b5"
      },
      "source": [
        "uploaded = files.upload()\n",
        "\n",
        "for fn in uploaded.keys():\n",
        " \n",
        "  # predicting images\n",
        "  path = fn\n",
        "  img = image.load_img(path, target_size=(150,150))\n",
        "  imgplot = plt.imshow(img)\n",
        "  x = image.img_to_array(img)\n",
        "  x = np.expand_dims(x, axis=0)\n",
        " \n",
        "  images = np.vstack([x])\n",
        "  classes = model.predict(images, batch_size=10)\n",
        "\n",
        "  \n",
        "  print(fn)\n",
        "  if classes[0][0] == 1:\n",
        "    print('Lung Condition = Viral Pneumonia')\n",
        "  elif classes[0][1] == 1:\n",
        "    print('Lung Condition = COVID')\n",
        "  elif classes[0][1] == 2:\n",
        "    print('Lung Condition = Normal')\n",
        "  else:\n",
        "    print('Lung Condition = Lung_Opacity')"
      ],
      "execution_count": null,
      "outputs": [
        {
          "output_type": "display_data",
          "data": {
            "text/html": [
              "\n",
              "     <input type=\"file\" id=\"files-f034cb89-0fb0-43a7-bc60-2fc8194cb9e9\" name=\"files[]\" multiple disabled\n",
              "        style=\"border:none\" />\n",
              "     <output id=\"result-f034cb89-0fb0-43a7-bc60-2fc8194cb9e9\">\n",
              "      Upload widget is only available when the cell has been executed in the\n",
              "      current browser session. Please rerun this cell to enable.\n",
              "      </output>\n",
              "      <script src=\"/nbextensions/google.colab/files.js\"></script> "
            ],
            "text/plain": [
              "<IPython.core.display.HTML object>"
            ]
          },
          "metadata": {
            "tags": []
          }
        },
        {
          "output_type": "stream",
          "text": [
            "Saving COVID-1010.png to COVID-1010.png\n",
            "COVID-1010.png\n",
            "Lung Condition = COVID\n"
          ],
          "name": "stdout"
        },
        {
          "output_type": "display_data",
          "data": {
            "image/png": "[encoded data removed]",
            "text/plain": [
              "<Figure size 432x288 with 1 Axes>"
            ]
          },
          "metadata": {
            "tags": []
          }
        }
      ]
    },
    {
      "cell_type": "markdown",
      "metadata": {
        "id": "pMy6gZ019TAI"
      },
      "source": [
        "**SAVE MODEL TO TF-LITE**"
      ]
    },
    {
      "cell_type": "code",
      "metadata": {
        "colab": {
          "base_uri": "https://localhost:8080/"
        },
        "id": "bBV7h6QnxBQV",
        "outputId": "951074a1-2bae-44c1-8ce8-297bb3a5d714"
      },
      "source": [
        "# Konversi model.\n",
        "converter = tf.lite.TFLiteConverter.from_keras_model(model)\n",
        "tflite_model = converter.convert()"
      ],
      "execution_count": null,
      "outputs": [
        {
          "output_type": "stream",
          "text": [
            "INFO:tensorflow:Assets written to: /tmp/tmp014k6tfi/assets\n"
          ],
          "name": "stdout"
        }
      ]
    },
    {
      "cell_type": "code",
      "metadata": {
        "id": "cV_jBN9LxCYj"
      },
      "source": [
        "with tf.io.gfile.GFile('model.tflite', 'wb') as f:\n",
        "  f.write(tflite_model)"
      ],
      "execution_count": null,
      "outputs": []
    }
  ]
}